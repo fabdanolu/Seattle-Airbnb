{
 "cells": [
  {
   "cell_type": "markdown",
   "metadata": {},
   "source": [
    "## Project - Seattle Airbnb Dataset  \n",
    "\n",
    "BY Fabi Daniel"
   ]
  },
  {
   "cell_type": "code",
   "execution_count": 2,
   "metadata": {},
   "outputs": [
    {
     "name": "stdout",
     "output_type": "stream",
     "text": [
      "numpy: 1.23.1\n",
      "pandas: 1.4.3\n",
      "seaborn: 0.11.2\n"
     ]
    }
   ],
   "source": [
    "# import all necessary modules\n",
    "import numpy as np\n",
    "print('numpy: {}'.format(np.__version__))\n",
    "import pandas as pd\n",
    "print('pandas: {}'.format(pd.__version__))\n",
    "from matplotlib import pyplot as plt\n",
    "# print('matplotlib: {}'.format(matplotlib.__version__))\n",
    "import seaborn as sns\n",
    "print('seaborn: {}'.format(sns.__version__))\n",
    "%matplotlib inline"
   ]
  },
  {
   "cell_type": "code",
   "execution_count": 3,
   "metadata": {},
   "outputs": [],
   "source": [
    "#load dataset\n",
    "\n",
    "calendar_df = pd.read_csv('/Users/cwrealestate/Downloads/archive 2/calendar.csv')\n",
    "listings_df = pd.read_csv('/Users/cwrealestate/Downloads/archive 2/listings.csv')\n",
    "reviews_df = pd.read_csv('/Users/cwrealestate/Downloads/archive 2/reviews.csv')"
   ]
  },
  {
   "cell_type": "code",
   "execution_count": null,
   "metadata": {},
   "outputs": [],
   "source": [
    "# Get overview of Calendar\n",
    "calendar_df.head()"
   ]
  },
  {
   "cell_type": "code",
   "execution_count": null,
   "metadata": {},
   "outputs": [],
   "source": [
    "# Get info \n",
    "calendar_df.info()"
   ]
  },
  {
   "cell_type": "markdown",
   "metadata": {},
   "source": [
    "* There are Four Columns In calendar_df, 1393570 observations"
   ]
  },
  {
   "cell_type": "code",
   "execution_count": null,
   "metadata": {},
   "outputs": [],
   "source": [
    "listings_df.head()"
   ]
  },
  {
   "cell_type": "code",
   "execution_count": null,
   "metadata": {},
   "outputs": [],
   "source": [
    "listings_df.info()"
   ]
  },
  {
   "cell_type": "markdown",
   "metadata": {},
   "source": [
    "* There are 91 columns in listings_df, 3818 observations"
   ]
  },
  {
   "cell_type": "code",
   "execution_count": null,
   "metadata": {},
   "outputs": [],
   "source": [
    "reviews_df.head()"
   ]
  },
  {
   "cell_type": "code",
   "execution_count": null,
   "metadata": {},
   "outputs": [],
   "source": [
    "reviews_df.info()"
   ]
  },
  {
   "cell_type": "markdown",
   "metadata": {},
   "source": [
    "* There are 6 columns in reviews_df, 84849 observations"
   ]
  },
  {
   "cell_type": "markdown",
   "metadata": {},
   "source": [
    "### Data Assessment\n"
   ]
  },
  {
   "cell_type": "code",
   "execution_count": null,
   "metadata": {},
   "outputs": [],
   "source": [
    "listings_df.sample(10)"
   ]
  },
  {
   "cell_type": "markdown",
   "metadata": {},
   "source": [
    "##### Overview of listings_df\n",
    "\n",
    "It has 91 columns"
   ]
  },
  {
   "cell_type": "code",
   "execution_count": null,
   "metadata": {},
   "outputs": [],
   "source": [
    "# Get an Overview of columns that are float\n",
    "listings_df.loc[:,(listings_df.dtypes=='float64').values]"
   ]
  },
  {
   "cell_type": "code",
   "execution_count": null,
   "metadata": {},
   "outputs": [],
   "source": [
    "# Get an Overview of columns that are Object\n",
    "listings_df.loc[:,(listings_df.dtypes=='object').values]"
   ]
  },
  {
   "cell_type": "code",
   "execution_count": null,
   "metadata": {},
   "outputs": [],
   "source": [
    "listings_df.loc[:,(listings_df.dtypes=='int').values]"
   ]
  },
  {
   "cell_type": "code",
   "execution_count": null,
   "metadata": {},
   "outputs": [],
   "source": [
    "listings_df.loc[:,(listings_df.dtypes=='datetime').values]"
   ]
  },
  {
   "cell_type": "markdown",
   "metadata": {},
   "source": [
    "There are no datetime columns in the listings_df. Clever to have separated the datetime. "
   ]
  },
  {
   "cell_type": "code",
   "execution_count": null,
   "metadata": {},
   "outputs": [],
   "source": [
    "listings_df.columns"
   ]
  },
  {
   "cell_type": "markdown",
   "metadata": {},
   "source": [
    "Due to the Number of columns, working with this table might be cumbersome. I will normalize the listings_df table into smaller tables with id being the key to the relationship"
   ]
  },
  {
   "cell_type": "markdown",
   "metadata": {},
   "source": [
    "##### Overview of calendar_df\n",
    "\n",
    "It has four columns"
   ]
  },
  {
   "cell_type": "code",
   "execution_count": null,
   "metadata": {},
   "outputs": [],
   "source": [
    "calendar_df.loc[:,(calendar_df.dtypes=='datetime').values]"
   ]
  },
  {
   "cell_type": "code",
   "execution_count": null,
   "metadata": {},
   "outputs": [],
   "source": [
    "print(calendar_df.columns)\n",
    "calendar_df.info()"
   ]
  },
  {
   "cell_type": "markdown",
   "metadata": {},
   "source": [
    "Column 'date' is not in right datatype"
   ]
  },
  {
   "cell_type": "code",
   "execution_count": null,
   "metadata": {},
   "outputs": [],
   "source": [
    "calendar_df.date.dtypes"
   ]
  },
  {
   "cell_type": "markdown",
   "metadata": {},
   "source": [
    "##### Overview of review_df\n",
    "\n",
    "It has six columns"
   ]
  },
  {
   "cell_type": "code",
   "execution_count": null,
   "metadata": {},
   "outputs": [],
   "source": [
    "reviews_df.info()"
   ]
  },
  {
   "cell_type": "markdown",
   "metadata": {},
   "source": [
    "Column 'date' is not in right datatype"
   ]
  },
  {
   "cell_type": "markdown",
   "metadata": {},
   "source": [
    "#### Data Cleaning and Normalization"
   ]
  },
  {
   "cell_type": "markdown",
   "metadata": {},
   "source": [
    "Convert date to appropriate datatype"
   ]
  },
  {
   "cell_type": "code",
   "execution_count": null,
   "metadata": {},
   "outputs": [],
   "source": [
    "# Convert calendar_df Date\n",
    "calendar_df['date'] = pd.to_datetime(calendar_df.date, yearfirst=True)\n",
    "calendar_df['date'].dtypes"
   ]
  },
  {
   "cell_type": "code",
   "execution_count": null,
   "metadata": {},
   "outputs": [],
   "source": [
    "reviews_df['date'] = pd.to_datetime(reviews_df.date, yearfirst=True)\n",
    "reviews_df['date'].dtypes"
   ]
  },
  {
   "cell_type": "markdown",
   "metadata": {},
   "source": [
    "##### Check for duplicates"
   ]
  },
  {
   "cell_type": "code",
   "execution_count": 8,
   "metadata": {},
   "outputs": [
    {
     "name": "stdout",
     "output_type": "stream",
     "text": [
      "0\n",
      "0\n",
      "0\n"
     ]
    }
   ],
   "source": [
    "print(reviews_df.duplicated().sum())\n",
    "print(calendar_df.duplicated().sum())\n",
    "print(listings_df.duplicated().sum())"
   ]
  },
  {
   "cell_type": "markdown",
   "metadata": {},
   "source": [
    "##### Data Normalization of Listing DataFrame"
   ]
  },
  {
   "cell_type": "code",
   "execution_count": null,
   "metadata": {},
   "outputs": [],
   "source": [
    "# Normalize for listings_location for locational details\n",
    "\n",
    "listings_location = listings_df[['id',\n",
    "'name', \n",
    "'description', \n",
    "'neighbourhood', \n",
    "'city', \n",
    "'state', \n",
    "'is_location_exact',\n",
    " 'zipcode',\n",
    " 'market',\n",
    " 'smart_location',\n",
    " 'country_code',\n",
    " 'country',\n",
    " 'latitude',\n",
    " 'longitude']]\n",
    "\n",
    "listings_location.shape"
   ]
  },
  {
   "cell_type": "markdown",
   "metadata": {},
   "source": [
    "listings_location has 9 columns "
   ]
  },
  {
   "cell_type": "code",
   "execution_count": null,
   "metadata": {},
   "outputs": [],
   "source": [
    "# Normalize for listings_price for pricing details\n",
    "listings_price = listings_df[['id', \n",
    "'price',\n",
    "'weekly_price',\n",
    "'monthly_price',\n",
    "'security_deposit',\n",
    "'cleaning_fee']]\n",
    "\n",
    "listings_price.shape"
   ]
  },
  {
   "cell_type": "code",
   "execution_count": null,
   "metadata": {},
   "outputs": [],
   "source": [
    "listings_df[['guests_included','extra_people']]\n"
   ]
  },
  {
   "cell_type": "code",
   "execution_count": null,
   "metadata": {},
   "outputs": [],
   "source": [
    "listings_df[['minimum_nights',                    \n",
    "'maximum_nights',                       \n",
    "'has_availability',                \n",
    "'availability_30',                \n",
    "'availability_60',                    \n",
    "'availability_90',   \n",
    "'availability_365']]"
   ]
  },
  {
   "cell_type": "markdown",
   "metadata": {},
   "source": [
    "listings_price has 8 columns"
   ]
  },
  {
   "cell_type": "code",
   "execution_count": null,
   "metadata": {},
   "outputs": [],
   "source": [
    "# Normalize for listings_bedtails for bedding details\n",
    "\n",
    "listings_bedtails = listings_df[['id', \n",
    "'property_type',\n",
    "'room_type',\n",
    "'accommodates',\n",
    "'bathrooms',\n",
    "'bedrooms',\n",
    "'beds',\n",
    "'bed_type',\n",
    "'amenities',\n",
    "'square_feet',\n",
    "'amenities',\n",
    "'square_feet']]\n",
    "\n",
    "listings_bedtails"
   ]
  },
  {
   "cell_type": "markdown",
   "metadata": {},
   "source": [
    "listings_bedtails has 8 columns "
   ]
  },
  {
   "cell_type": "code",
   "execution_count": null,
   "metadata": {},
   "outputs": [],
   "source": [
    "listings_hosts = listings_df[['id', 'host_id',\n",
    " 'host_url',\n",
    " 'host_name',\n",
    " 'host_since',\n",
    " 'host_location',\n",
    " 'host_about',\n",
    " 'host_response_time',\n",
    " 'host_response_rate',\n",
    " 'host_acceptance_rate',\n",
    " 'host_is_superhost',\n",
    " 'host_thumbnail_url',\n",
    " 'host_picture_url',\n",
    " 'host_neighbourhood',\n",
    " 'host_listings_count',\n",
    " 'host_total_listings_count',\n",
    " 'host_verifications',\n",
    " 'host_has_profile_pic',\n",
    " 'host_identity_verified']]\n",
    "\n",
    "listings_hosts.shape"
   ]
  },
  {
   "cell_type": "markdown",
   "metadata": {},
   "source": [
    "listings_hosts has 19 columns"
   ]
  },
  {
   "cell_type": "code",
   "execution_count": null,
   "metadata": {},
   "outputs": [],
   "source": [
    "listings_review = listings_df[['id', 'number_of_reviews',\n",
    " 'first_review',\n",
    " 'last_review',\n",
    " 'review_scores_rating',\n",
    " 'review_scores_accuracy',\n",
    " 'review_scores_cleanliness',\n",
    " 'review_scores_checkin',\n",
    " 'review_scores_communication',\n",
    " 'review_scores_location',\n",
    " 'review_scores_value']]\n",
    "\n",
    "\n",
    "# listings_review\n",
    "listings_review.shape"
   ]
  },
  {
   "cell_type": "code",
   "execution_count": null,
   "metadata": {},
   "outputs": [],
   "source": [
    "listings_review.sample(10)"
   ]
  },
  {
   "cell_type": "markdown",
   "metadata": {},
   "source": [
    "listings_review has 11 columns"
   ]
  },
  {
   "cell_type": "code",
   "execution_count": null,
   "metadata": {},
   "outputs": [],
   "source": [
    "11+19+8+8+16+23"
   ]
  },
  {
   "cell_type": "code",
   "execution_count": null,
   "metadata": {},
   "outputs": [],
   "source": [
    "type(list(listings_bedtails.columns))"
   ]
  },
  {
   "cell_type": "code",
   "execution_count": null,
   "metadata": {},
   "outputs": [],
   "source": [
    "\n",
    "# for x in list2:\n",
    "#   list1.append(x)\n",
    "\n",
    "\n",
    "\n",
    "# for x in list2:\n",
    "#   list1.append(x)\n",
    "\n",
    "init_listings_col = list(listings_bedtails.columns).extend(listings_hosts.columns.values)\n",
    "# type(init_listings_col)\n",
    "\n",
    "\n",
    "# print(init_listings_col)\n",
    "# for i in :\n",
    "#     for i in listings_df.columns.to_list:\n",
    "#     if "
   ]
  },
  {
   "cell_type": "code",
   "execution_count": null,
   "metadata": {},
   "outputs": [],
   "source": [
    "listings_others=listings_df[['guests_included',\n",
    "'extra_people',\n",
    "'minimum_nights',\n",
    "'maximum_nights',\n",
    "'calendar_updated',\n",
    "'has_availability',\n",
    "'availability_30',\n",
    "'availability_60',\n",
    "'availability_90',\n",
    "'availability_365',\n",
    "'calendar_last_scraped','requires_license',\n",
    "'license',\n",
    "'jurisdiction_names',\n",
    "'instant_bookable',\n",
    "'cancellation_policy',\n",
    "'require_guest_profile_picture',\n",
    "'require_guest_phone_verification',\n",
    "'calculated_host_listings_count',\n",
    "'reviews_per_month']]\n",
    "\n",
    "listings_others.shape"
   ]
  },
  {
   "cell_type": "markdown",
   "metadata": {},
   "source": [
    "### Exploratory Data Analysis"
   ]
  },
  {
   "cell_type": "markdown",
   "metadata": {},
   "source": [
    "First, I will calculate the occupancy rate of each listings. Occupancy Rate is a very important metric for short stays as it shows how well your apartment is performing, a High Occupancy Rate is considered good.\n",
    "* To get the Occupancy Rate for each listing, I divide the Number of days the listing was occupied by the total number of days in question\n",
    "* It is worthy to note that it is possible that listings might not have the same start date. To account for this, I will get the date difference for each listing; the difference between date of first instance and date of last instance"
   ]
  },
  {
   "cell_type": "code",
   "execution_count": null,
   "metadata": {},
   "outputs": [],
   "source": [
    "# add aggregation by first and last \n",
    "df_agg= calendar_df.groupby(['listing_id']).agg({'date':['first','last']})\n",
    "\n",
    "# Flatten Multiindex\n",
    "df_agg.columns = df_agg.columns.map('_'.join)\n",
    "\n",
    "\n",
    "# Convert to Date time\n",
    "df_agg[['date_first','date_last']] = df_agg[['date_first','date_last']].apply(pd.to_datetime) #if conversion required\n",
    "\n",
    "# Find Date difference\n",
    "df_agg['date_diff'] = (df_agg['date_last'] - df_agg['date_first'])\n",
    "df_agg.sample(10)"
   ]
  },
  {
   "cell_type": "code",
   "execution_count": null,
   "metadata": {},
   "outputs": [],
   "source": [
    "df_agg['date_last'].value_counts()"
   ]
  },
  {
   "cell_type": "markdown",
   "metadata": {},
   "source": [
    "* All the listings have the same date difference. Now, I can proceed finally to calculating the occupancy rate using 365 days as the denominator"
   ]
  },
  {
   "cell_type": "code",
   "execution_count": null,
   "metadata": {},
   "outputs": [],
   "source": [
    "calendar_df"
   ]
  },
  {
   "cell_type": "code",
   "execution_count": null,
   "metadata": {},
   "outputs": [],
   "source": [
    "# Calculate the Occupancy Count i.e. (where 'available' is 't')\n",
    "occupancy = calendar_df.groupby('listing_id')['available'].apply(lambda x: (x=='t').sum()).reset_index(name='count')\n",
    "\n",
    "# Create 'occupancy_rate' feature for each Listing.\n",
    "occupancy['rate'] = (occupancy['count']*100)/365\n",
    "occupancy.sample(20)"
   ]
  },
  {
   "cell_type": "code",
   "execution_count": null,
   "metadata": {},
   "outputs": [],
   "source": [
    "# Get Distribution of occupancy rate\n",
    "# plt.figure(figsize=(12,7))\n",
    "plt.rcParams['figure.figsize']=[12,7]\n",
    "occupancy['rate'].plot(kind='hist', bins=20)\n",
    "plt.title('Distribution of Occupancy Rate')\n",
    "plt.show()"
   ]
  },
  {
   "cell_type": "markdown",
   "metadata": {},
   "source": [
    "Apparently, there are listings with a perfect record i.e. 100% occupancy rate and this group represents the majority "
   ]
  },
  {
   "cell_type": "markdown",
   "metadata": {},
   "source": [
    "I will get a table for all listings with a perfect record."
   ]
  },
  {
   "cell_type": "code",
   "execution_count": null,
   "metadata": {},
   "outputs": [],
   "source": [
    "# Get a table of all listings with a perfect record\n",
    "\n",
    "perfect_rec = occupancy[occupancy['rate'] == 100]\n",
    "perfect_rec.info()"
   ]
  },
  {
   "cell_type": "markdown",
   "metadata": {},
   "source": [
    "There are 678 listings with a perfect record \n",
    "\n",
    "I feel pressured to take a deeper dive to understand the characteristics of this particular group, but before then, I will peruse through the normalized llisting DataFrames"
   ]
  },
  {
   "cell_type": "code",
   "execution_count": null,
   "metadata": {},
   "outputs": [],
   "source": [
    "# Check bed details \n",
    "\n",
    "listings_bedtails.sample(10)"
   ]
  },
  {
   "cell_type": "code",
   "execution_count": null,
   "metadata": {},
   "outputs": [],
   "source": [
    "\n",
    "# Plot for Property Type\n",
    "# Choose color for plot\n",
    "def count_univ(data, y, color= sns.color_palette()[0]):\n",
    "    order = data[y].value_counts().index\n",
    "\n",
    "    sns.countplot(data=data, y=y, color=color, order=order)\n",
    "    plt.title(f'Frequency of {y}')\n",
    "    plt.ylabel(f'{y}', fontsize=12)\n",
    "    plt.xlabel('Count', fontsize=12)\n",
    "    plt.show()\n",
    "count_univ(data=listings_bedtails,y='property_type')"
   ]
  },
  {
   "cell_type": "markdown",
   "metadata": {},
   "source": [
    "In general, There are more houses than any other property type for short stay accommodation in Seattle. Following closely are Apartments.\n",
    "\n",
    "The Margin for error is not known as it's common for owners when uploading to use a generic term 'House' for the property description\n",
    "\n"
   ]
  },
  {
   "cell_type": "code",
   "execution_count": null,
   "metadata": {},
   "outputs": [],
   "source": [
    "# Plot for Room Type\n",
    "count_univ(data=listings_bedtails,y='room_type')"
   ]
  },
  {
   "cell_type": "markdown",
   "metadata": {},
   "source": [
    "As expected there are more listings let out in their entirety that there are shared or private rooms\n",
    "\n",
    "Next is to check for bedrooms"
   ]
  },
  {
   "cell_type": "code",
   "execution_count": null,
   "metadata": {},
   "outputs": [],
   "source": [
    "# Plot for Room Type\n",
    "count_univ(data=listings_bedtails,y='bedrooms')"
   ]
  },
  {
   "cell_type": "markdown",
   "metadata": {},
   "source": [
    "First thing to note from the visualization is the 0 bedrooms. This could be studio apartment that have both the bedroom and the living area as one single area.\n",
    "\n",
    "Also, 1-Bedrooms are the most frequent bedroom type, representing majority of the dataset "
   ]
  },
  {
   "cell_type": "markdown",
   "metadata": {},
   "source": [
    "Now, merging the listing_bedtails dataframe with my perfect_rec dataframe, I can get the bed details for the perfect record listings and see how they are represented in my perfect_rec dataframe"
   ]
  },
  {
   "cell_type": "code",
   "execution_count": null,
   "metadata": {},
   "outputs": [],
   "source": [
    "# Merge Bed Details with Perfect record\n",
    "temp_listings = perfect_rec.merge(listings_bedtails, how='left',left_on='listing_id',right_on='id',suffixes=('', '_drop'))\n",
    "\n",
    "#Drop the duplicate columns\n",
    "temp_listings.drop([col for col in temp_listings.columns if 'drop' in col], axis=1, inplace=True)\n",
    "\n",
    "\n"
   ]
  },
  {
   "cell_type": "markdown",
   "metadata": {},
   "source": [
    "Plot for bedrooms for listings with Perfect Records"
   ]
  },
  {
   "cell_type": "code",
   "execution_count": null,
   "metadata": {},
   "outputs": [],
   "source": [
    "# base_color = sns.color_palette()[0]\n",
    "\n",
    "# temp_listings.bedrooms.value_counts(normalize=True).plot(kind='bar', color=base_color)\n",
    "# # plt.xticks(rotation=45)\n",
    "# temp_listings\n",
    "\n",
    "# Plot for bedrooms for listings with Perfect Records\n",
    "count_univ(data=temp_listings,y='bedrooms')"
   ]
  },
  {
   "cell_type": "markdown",
   "metadata": {},
   "source": [
    "Apart from the fact that there are no 6 or 7 Bedrooms with a Perfect Record. This chart is similar to the one for all listings"
   ]
  },
  {
   "cell_type": "code",
   "execution_count": null,
   "metadata": {},
   "outputs": [],
   "source": [
    "# Plot for Room Type for listings with Perfect Records\n",
    "count_univ(data=temp_listings,y='room_type')"
   ]
  },
  {
   "cell_type": "markdown",
   "metadata": {},
   "source": [
    "This is interesting, compared to the chart for all listings, private rooms have a very good representation when it comes to having Perfect Records. \n",
    "\n",
    "I would love to see the ratio of Private Rooms with Perfect Records to All Private Rooms"
   ]
  },
  {
   "cell_type": "code",
   "execution_count": null,
   "metadata": {},
   "outputs": [],
   "source": [
    "# Plot for Property Type for listings with Perfect Records\n",
    "count_univ(data=temp_listings,y='property_type')"
   ]
  },
  {
   "cell_type": "markdown",
   "metadata": {},
   "source": [
    "The gap between the two leading property type has increased.\n",
    "\n",
    "However, there are still more **Houses** with Perfect Records than any other property type for short stay accommodation in Seattle. Following closely are Apartments.\n",
    "\n",
    "The Margin for error is not known as it's common for owners when uploading to use a generic term 'House' for the property description\n",
    "\n"
   ]
  },
  {
   "cell_type": "code",
   "execution_count": null,
   "metadata": {},
   "outputs": [],
   "source": [
    "calendar_df"
   ]
  },
  {
   "cell_type": "code",
   "execution_count": null,
   "metadata": {},
   "outputs": [],
   "source": [
    "# df_agg['diff'].value_counts()"
   ]
  },
  {
   "cell_type": "code",
   "execution_count": null,
   "metadata": {},
   "outputs": [],
   "source": [
    "# temp_listings = listings_max.merge(listings_bedtails, how='left',left_on='id',right_on='id',suffixes=('', '_drop'))\n",
    "\n",
    "# #Drop the duplicate columns\n",
    "# temp_listings.drop([col for col in temp_listings.columns if 'drop' in col], axis=1, inplace=True)\n",
    "\n",
    "# base_color = sns.color_palette()[0]\n",
    "\n",
    "# temp_listings.beds.value_counts(normalize=True).plot(kind='bar', color=base_color)\n",
    "# # plt.xticks(rotation=45)\n",
    "# # temp_listings\n"
   ]
  },
  {
   "cell_type": "code",
   "execution_count": null,
   "metadata": {},
   "outputs": [],
   "source": [
    "reviews_df.sample(10)"
   ]
  },
  {
   "cell_type": "code",
   "execution_count": null,
   "metadata": {},
   "outputs": [],
   "source": [
    "reviews_count = reviews_df.groupby('listing_id')['listing_id'].count().sort_values(ascending=False).reset_index(name='review_count')"
   ]
  },
  {
   "cell_type": "code",
   "execution_count": null,
   "metadata": {},
   "outputs": [],
   "source": [
    "reviews_count"
   ]
  },
  {
   "cell_type": "code",
   "execution_count": null,
   "metadata": {},
   "outputs": [],
   "source": [
    "# occupancy_review = occupancy.merge(reviews_count, how='left',left_on='listing_id',right_on='listing_id',suffixes=('', '_drop'))\n",
    "\n",
    "\n",
    "# x= occupancy_review['review_count']\n",
    "# y = occupancy_review['rate']\n",
    "\n",
    "# bins = np.arange(x.min(),x.max(),0.5)\n",
    "# sns.regplot(data=occupancy_review, x=x, y=y,scatter_kws={'alpha': 1/20}, bins=bins)"
   ]
  }
 ],
 "metadata": {
  "kernelspec": {
   "display_name": "Python 3.10.5 64-bit",
   "language": "python",
   "name": "python3"
  },
  "language_info": {
   "codemirror_mode": {
    "name": "ipython",
    "version": 3
   },
   "file_extension": ".py",
   "mimetype": "text/x-python",
   "name": "python",
   "nbconvert_exporter": "python",
   "pygments_lexer": "ipython3",
   "version": "3.10.5"
  },
  "orig_nbformat": 4,
  "vscode": {
   "interpreter": {
    "hash": "aee8b7b246df8f9039afb4144a1f6fd8d2ca17a180786b69acc140d282b71a49"
   }
  }
 },
 "nbformat": 4,
 "nbformat_minor": 2
}
